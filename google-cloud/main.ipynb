{
 "cells": [
  {
   "cell_type": "code",
   "execution_count": 1,
   "id": "0e9c8147-6ae6-4466-8f4f-9bb1050d29aa",
   "metadata": {},
   "outputs": [
    {
     "name": "stderr",
     "output_type": "stream",
     "text": [
      "2023-10-21 15:22:25.785868: I tensorflow/core/platform/cpu_feature_guard.cc:182] This TensorFlow binary is optimized to use available CPU instructions in performance-critical operations.\n",
      "To enable the following instructions: AVX2 FMA, in other operations, rebuild TensorFlow with the appropriate compiler flags.\n"
     ]
    }
   ],
   "source": [
    "from google.cloud import storage\n",
    "import tensorflow as tf\n",
    "from PIL import Image\n",
    "import numpy as np\n",
    "\n",
    "\n",
    "BUCKET_NAME = \"ml-models-cxrlton\"\n",
    "class_names = [\"Early Blight\", \"Late Blight\",\"Healthy\"]\n",
    "\n",
    "model = None\n",
    "\n",
    "def download_blob(bucket_name,sourcre_blob_name,destination_file_name):\n",
    "    storage_client = storage.Client()\n",
    "    bucket = storage_client.get_bucket(bucket_name)\n",
    "    blob = bucket.blob(source_blob_name)\n",
    "    blob.download_to_filename(destination_file_name)\n",
    "    \n",
    "    \n",
    "    \n",
    "def predict(request):\n",
    "    global model\n",
    "    if model is not None:\n",
    "        download_blob(\n",
    "            BUCKET_NAME,\n",
    "            \"models/ImageGen.h5\",\n",
    "            \"/tmp/ImageGen.h5\",\n",
    "    )\n",
    "        model = tf.keras.load_model('/tmp/ImageGen.h5')\n",
    "    image = request.files[\"file\"]\n",
    "    image = np.array(\n",
    "        Image.open(image).convert(\"RGB\").resize((256, 256)) # image resizing\n",
    "    )\n",
    "    image = image/255 # normalize the image in 0 to 1 range\n",
    "\n",
    "    img_array = tf.expand_dims(img, 0)\n",
    "    predictions = model.predict(img_array)\n",
    "\n",
    "    print(\"Predictions:\",predictions)\n",
    "\n",
    "    predicted_class = class_names[np.argmax(predictions[0])]\n",
    "    confidence = round(100 * (np.max(predictions[0])), 2)\n",
    "\n",
    "    return {\"class\": predicted_class, \"confidence\": confidence}"
   ]
  },
  {
   "cell_type": "code",
   "execution_count": null,
   "id": "c47dba37-4a6b-490b-95f5-846f9267c0d0",
   "metadata": {},
   "outputs": [],
   "source": []
  }
 ],
 "metadata": {
  "kernelspec": {
   "display_name": "Python 3 (ipykernel)",
   "language": "python",
   "name": "python3"
  },
  "language_info": {
   "codemirror_mode": {
    "name": "ipython",
    "version": 3
   },
   "file_extension": ".py",
   "mimetype": "text/x-python",
   "name": "python",
   "nbconvert_exporter": "python",
   "pygments_lexer": "ipython3",
   "version": "3.10.0"
  }
 },
 "nbformat": 4,
 "nbformat_minor": 5
}
